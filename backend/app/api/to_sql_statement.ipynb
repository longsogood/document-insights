{
 "cells": [
  {
   "cell_type": "code",
   "execution_count": 1,
   "metadata": {},
   "outputs": [],
   "source": [
    "from typing import Optional, cast, Sequence, List\n",
    "from sqlalchemy.orm import joinedload\n",
    "from sqlalchemy.ext.asyncio import AsyncSession\n",
    "from app.models.db import Conversation, Message, Document, ConversationDocument\n",
    "from app import schema\n",
    "from sqlalchemy import select, delete\n",
    "from sqlalchemy.dialects.postgresql import insert"
   ]
  },
  {
   "cell_type": "code",
   "execution_count": 2,
   "metadata": {},
   "outputs": [],
   "source": [
    "from IPython.display import display, Markdown"
   ]
  },
  {
   "cell_type": "code",
   "execution_count": 7,
   "metadata": {},
   "outputs": [],
   "source": [
    "stmt = (\n",
    "        select(Conversation)\n",
    "        .options(joinedload(Conversation.messages).subqueryload(Message.sub_processes))\n",
    "        .options(\n",
    "            joinedload(Conversation.conversation_documents).subqueryload(\n",
    "                ConversationDocument.document\n",
    "            )\n",
    "        )\n",
    "        .where(Conversation.id == 'abcxyz')\n",
    "    )"
   ]
  },
  {
   "cell_type": "code",
   "execution_count": 8,
   "metadata": {},
   "outputs": [
    {
     "data": {
      "text/markdown": [
       "SELECT conversation.id, conversation.created_at, conversation.updated_at, message_1.conversation_id, message_1.content, message_1.role, message_1.status, message_1.id AS id_1, message_1.created_at AS created_at_1, message_1.updated_at AS updated_at_1, conversationdocument_1.conversation_id AS conversation_id_1, conversationdocument_1.document_id, conversationdocument_1.id AS id_2, conversationdocument_1.created_at AS created_at_2, conversationdocument_1.updated_at AS updated_at_2 \n",
       "FROM conversation LEFT OUTER JOIN message AS message_1 ON conversation.id = message_1.conversation_id LEFT OUTER JOIN conversationdocument AS conversationdocument_1 ON conversation.id = conversationdocument_1.conversation_id \n",
       "WHERE conversation.id = :id_3"
      ],
      "text/plain": [
       "<IPython.core.display.Markdown object>"
      ]
     },
     "metadata": {},
     "output_type": "display_data"
    }
   ],
   "source": [
    "display(Markdown(str(stmt)))"
   ]
  },
  {
   "cell_type": "code",
   "execution_count": 12,
   "metadata": {},
   "outputs": [],
   "source": [
    "!set -a"
   ]
  },
  {
   "cell_type": "code",
   "execution_count": 13,
   "metadata": {},
   "outputs": [
    {
     "name": "stdout",
     "output_type": "stream",
     "text": [
      "/bin/bash: line 1: .env: No such file or directory\n"
     ]
    }
   ],
   "source": [
    "!source .env"
   ]
  },
  {
   "cell_type": "code",
   "execution_count": 14,
   "metadata": {},
   "outputs": [
    {
     "ename": "ValidationError",
     "evalue": "8 validation errors for Settings\nOPENAI_API_KEY\n  field required (type=value_error.missing)\nAWS_KEY\n  field required (type=value_error.missing)\nAWS_SECRET\n  field required (type=value_error.missing)\nPOLYGON_IO_API_KEY\n  field required (type=value_error.missing)\nDATABASE_URL\n  field required (type=value_error.missing)\nS3_BUCKET_NAME\n  field required (type=value_error.missing)\nS3_ASSET_BUCKET_NAME\n  field required (type=value_error.missing)\nCDN_BASE_URL\n  field required (type=value_error.missing)",
     "output_type": "error",
     "traceback": [
      "\u001b[0;31m---------------------------------------------------------------------------\u001b[0m",
      "\u001b[0;31mValidationError\u001b[0m                           Traceback (most recent call last)",
      "Cell \u001b[0;32mIn[14], line 1\u001b[0m\n\u001b[0;32m----> 1\u001b[0m \u001b[38;5;28;01mfrom\u001b[39;00m \u001b[38;5;21;01mapp\u001b[39;00m\u001b[38;5;21;01m.\u001b[39;00m\u001b[38;5;21;01mcore\u001b[39;00m\u001b[38;5;21;01m.\u001b[39;00m\u001b[38;5;21;01mconfig\u001b[39;00m \u001b[38;5;28;01mimport\u001b[39;00m settings\n\u001b[1;32m      2\u001b[0m \u001b[38;5;28;01mimport\u001b[39;00m \u001b[38;5;21;01ms3fs\u001b[39;00m\n\u001b[1;32m      3\u001b[0m \u001b[38;5;28;01mfrom\u001b[39;00m \u001b[38;5;21;01mfsspec\u001b[39;00m\u001b[38;5;21;01m.\u001b[39;00m\u001b[38;5;21;01masyn\u001b[39;00m \u001b[38;5;28;01mimport\u001b[39;00m AsyncFileSystem\n",
      "File \u001b[0;32m~/Documents/sec-insights/backend/app/core/config.py:173\u001b[0m\n\u001b[1;32m    169\u001b[0m     \u001b[38;5;28;01mclass\u001b[39;00m \u001b[38;5;21;01mConfig\u001b[39;00m(AppConfig):\n\u001b[1;32m    170\u001b[0m         env_prefix \u001b[38;5;241m=\u001b[39m \u001b[38;5;124m\"\u001b[39m\u001b[38;5;124m\"\u001b[39m\n\u001b[0;32m--> 173\u001b[0m settings \u001b[38;5;241m=\u001b[39m \u001b[43mSettings\u001b[49m\u001b[43m(\u001b[49m\u001b[43m)\u001b[49m\n\u001b[1;32m    174\u001b[0m os\u001b[38;5;241m.\u001b[39menviron[\u001b[38;5;124m\"\u001b[39m\u001b[38;5;124mOPENAI_API_KEY\u001b[39m\u001b[38;5;124m\"\u001b[39m] \u001b[38;5;241m=\u001b[39m settings\u001b[38;5;241m.\u001b[39mOPENAI_API_KEY\n",
      "File \u001b[0;32m~/.cache/pypoetry/virtualenvs/llama-app-backend-WFv86mgC-py3.11/lib/python3.11/site-packages/pydantic/env_settings.py:40\u001b[0m, in \u001b[0;36mpydantic.env_settings.BaseSettings.__init__\u001b[0;34m()\u001b[0m\n",
      "File \u001b[0;32m~/.cache/pypoetry/virtualenvs/llama-app-backend-WFv86mgC-py3.11/lib/python3.11/site-packages/pydantic/main.py:341\u001b[0m, in \u001b[0;36mpydantic.main.BaseModel.__init__\u001b[0;34m()\u001b[0m\n",
      "\u001b[0;31mValidationError\u001b[0m: 8 validation errors for Settings\nOPENAI_API_KEY\n  field required (type=value_error.missing)\nAWS_KEY\n  field required (type=value_error.missing)\nAWS_SECRET\n  field required (type=value_error.missing)\nPOLYGON_IO_API_KEY\n  field required (type=value_error.missing)\nDATABASE_URL\n  field required (type=value_error.missing)\nS3_BUCKET_NAME\n  field required (type=value_error.missing)\nS3_ASSET_BUCKET_NAME\n  field required (type=value_error.missing)\nCDN_BASE_URL\n  field required (type=value_error.missing)"
     ]
    }
   ],
   "source": [
    "from app.core.config import settings\n",
    "import s3fs\n",
    "from fsspec.asyn import AsyncFileSystem"
   ]
  },
  {
   "cell_type": "code",
   "execution_count": null,
   "metadata": {},
   "outputs": [],
   "source": [
    "def get_s3_fs() -> AsyncFileSystem:\n",
    "    s3 = s3fs.S3FileSystem(\n",
    "        key=settings.AWS_KEY,\n",
    "        secret=settings.AWS_SECRET,\n",
    "        endpoint_url=settings.S3_ENDPOINT_URL,\n",
    "    )\n",
    "    if not (settings.RENDER or s3.exists(settings.S3_BUCKET_NAME)):\n",
    "        s3.mkdir(settings.S3_BUCKET_NAME)\n",
    "    return s3"
   ]
  },
  {
   "cell_type": "code",
   "execution_count": 2,
   "metadata": {},
   "outputs": [],
   "source": [
    "kwargs = {\"similarity_top_k\": 3, \"filters\": 2}"
   ]
  },
  {
   "cell_type": "code",
   "execution_count": 4,
   "metadata": {},
   "outputs": [
    {
     "ename": "SyntaxError",
     "evalue": "invalid syntax (748350476.py, line 1)",
     "output_type": "error",
     "traceback": [
      "\u001b[0;36m  Cell \u001b[0;32mIn[4], line 1\u001b[0;36m\u001b[0m\n\u001b[0;31m    **kwargs\u001b[0m\n\u001b[0m    ^\u001b[0m\n\u001b[0;31mSyntaxError\u001b[0m\u001b[0;31m:\u001b[0m invalid syntax\n"
     ]
    }
   ],
   "source": [
    "**kwargs"
   ]
  }
 ],
 "metadata": {
  "kernelspec": {
   "display_name": "llama-app-backend-WFv86mgC-py3.11",
   "language": "python",
   "name": "python3"
  },
  "language_info": {
   "codemirror_mode": {
    "name": "ipython",
    "version": 3
   },
   "file_extension": ".py",
   "mimetype": "text/x-python",
   "name": "python",
   "nbconvert_exporter": "python",
   "pygments_lexer": "ipython3",
   "version": "3.11.3"
  }
 },
 "nbformat": 4,
 "nbformat_minor": 2
}
