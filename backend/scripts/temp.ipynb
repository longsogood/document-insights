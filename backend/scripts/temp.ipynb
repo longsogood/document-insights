{
 "cells": [
  {
   "cell_type": "code",
   "execution_count": 1,
   "metadata": {},
   "outputs": [],
   "source": [
    "from pytickersymbols import PyTickerSymbols"
   ]
  },
  {
   "cell_type": "code",
   "execution_count": 2,
   "metadata": {},
   "outputs": [],
   "source": [
    "from file_utils import get_available_filings"
   ]
  },
  {
   "cell_type": "code",
   "execution_count": 7,
   "metadata": {},
   "outputs": [],
   "source": [
    "doc_dir = '/tmp/tmpdz3afyxz'"
   ]
  },
  {
   "cell_type": "code",
   "execution_count": 8,
   "metadata": {},
   "outputs": [],
   "source": [
    "filings = get_available_filings(doc_dir)\n",
    "# stocks_data = PyTickerSymbols()\n",
    "# stocks_dict = get_stocks_by_symbol(stocks_data.get_all_indices())\n",
    "# for filing in tqdm(filings, desc=\"Upserting docs from filings\"):\n",
    "#     if filing.symbol not in stocks_dict:\n",
    "#         print(f\"Symbol {filing.symbol} not found in stocks_dict. Skipping.\")\n",
    "#         continue\n",
    "#     stock = stocks_dict[filing.symbol]\n",
    "#         # await upsert_document(doc_dir, stock, filing, url_base)"
   ]
  },
  {
   "cell_type": "code",
   "execution_count": 9,
   "metadata": {},
   "outputs": [
    {
     "data": {
      "text/plain": [
       "[]"
      ]
     },
     "execution_count": 9,
     "metadata": {},
     "output_type": "execute_result"
    }
   ],
   "source": [
    "filings"
   ]
  }
 ],
 "metadata": {
  "kernelspec": {
   "display_name": "Python 3",
   "language": "python",
   "name": "python3"
  },
  "language_info": {
   "codemirror_mode": {
    "name": "ipython",
    "version": 3
   },
   "file_extension": ".py",
   "mimetype": "text/x-python",
   "name": "python",
   "nbconvert_exporter": "python",
   "pygments_lexer": "ipython3",
   "version": "3.11.3"
  }
 },
 "nbformat": 4,
 "nbformat_minor": 2
}
